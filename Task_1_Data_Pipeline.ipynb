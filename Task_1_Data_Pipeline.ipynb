{
  "nbformat": 4,
  "nbformat_minor": 0,
  "metadata": {
    "colab": {
      "provenance": [],
      "authorship_tag": "ABX9TyNnGFxJAe61dyVSUhb3jf9k",
      "include_colab_link": true
    },
    "kernelspec": {
      "name": "python3",
      "display_name": "Python 3"
    },
    "language_info": {
      "name": "python"
    }
  },
  "cells": [
    {
      "cell_type": "markdown",
      "metadata": {
        "id": "view-in-github",
        "colab_type": "text"
      },
      "source": [
        "<a href=\"https://colab.research.google.com/github/SMJ2003-pocketware/DATA-PIPELINE-DEVELOPMENT/blob/main/Task_1_Data_Pipeline.ipynb\" target=\"_parent\"><img src=\"https://colab.research.google.com/assets/colab-badge.svg\" alt=\"Open In Colab\"/></a>"
      ]
    },
    {
      "cell_type": "code",
      "execution_count": 1,
      "metadata": {
        "id": "7ImKxwgjXDZ1"
      },
      "outputs": [],
      "source": [
        "#importing the required libraries and dependencies\n",
        "import pandas as pd\n",
        "from sklearn.model_selection import train_test_split\n",
        "from sklearn.preprocessing import StandardScaler, OneHotEncoder\n",
        "from sklearn.impute import SimpleImputer\n",
        "from sklearn.compose import ColumnTransformer\n",
        "from sklearn.pipeline import Pipeline\n",
        "import os"
      ]
    },
    {
      "cell_type": "code",
      "source": [
        "# Step 1: Loading the Data\n",
        "data = {\n",
        "    \"Name\": [\"Alice\", \"Bob\", \"Charlie\", \"David\", \"Eve\"],\n",
        "    \"Age\": [25, 30, None, 35, 40],\n",
        "    \"Salary\": [50000, 60000, 55000, None, 70000],\n",
        "    \"City\": [\"New York\", \"Los Angeles\", \"New York\", \"Chicago\", \"Los Angeles\"],\n",
        "    \"Gender\": [\"F\", \"M\", \"M\", \"M\", \"F\"]\n",
        "}\n",
        "df = pd.DataFrame(data)\n",
        "print(\"Raw Data:\")\n",
        "print(df)"
      ],
      "metadata": {
        "colab": {
          "base_uri": "https://localhost:8080/"
        },
        "id": "MoiUlpnJa48n",
        "outputId": "d2a617ac-4983-4482-d11d-965e63db025b"
      },
      "execution_count": 11,
      "outputs": [
        {
          "output_type": "stream",
          "name": "stdout",
          "text": [
            "Raw Data:\n",
            "      Name   Age   Salary         City Gender\n",
            "0    Alice  25.0  50000.0     New York      F\n",
            "1      Bob  30.0  60000.0  Los Angeles      M\n",
            "2  Charlie   NaN  55000.0     New York      M\n",
            "3    David  35.0      NaN      Chicago      M\n",
            "4      Eve  40.0  70000.0  Los Angeles      F\n"
          ]
        }
      ]
    },
    {
      "cell_type": "code",
      "source": [
        "# Step 2: Preprocessing\n",
        "numeric_features = [\"Age\", \"Salary\"]\n",
        "categorical_features = [\"City\", \"Gender\"]"
      ],
      "metadata": {
        "id": "_yO6qyTIa998"
      },
      "execution_count": 10,
      "outputs": []
    },
    {
      "cell_type": "code",
      "source": [
        "# Define transformers\n",
        "numeric_transformer = Pipeline(steps=[\n",
        "    (\"imputer\", SimpleImputer(strategy=\"mean\")),\n",
        "    (\"scaler\", StandardScaler())\n",
        "])\n",
        "\n",
        "categorical_transformer = Pipeline(steps=[\n",
        "    (\"imputer\", SimpleImputer(strategy=\"most_frequent\")),\n",
        "    (\"onehot\", OneHotEncoder(handle_unknown=\"ignore\"))\n",
        "])\n"
      ],
      "metadata": {
        "id": "IKtPBsfJbSH9"
      },
      "execution_count": 12,
      "outputs": []
    },
    {
      "cell_type": "code",
      "source": [
        "# Combine transformers into a ColumnTransformer\n",
        "preprocessor = ColumnTransformer(\n",
        "    transformers=[\n",
        "        (\"num\", numeric_transformer, numeric_features),\n",
        "        (\"cat\", categorical_transformer, categorical_features)\n",
        "    ]\n",
        ")"
      ],
      "metadata": {
        "id": "V1cp_674bTNG"
      },
      "execution_count": 5,
      "outputs": []
    },
    {
      "cell_type": "code",
      "source": [
        "# Step 3: Define Pipeline\n",
        "pipeline = Pipeline(steps=[\n",
        "    (\"preprocessor\", preprocessor)\n",
        "])\n"
      ],
      "metadata": {
        "id": "OXXcjh4zbVss"
      },
      "execution_count": 6,
      "outputs": []
    },
    {
      "cell_type": "code",
      "source": [
        "# Step 4: Apply Pipeline\n",
        "processed_data = pipeline.fit_transform(df)\n",
        "\n",
        "# Convert transformed data back to a DataFrame\n",
        "transformed_columns = numeric_features + list(pipeline.named_steps[\"preprocessor\"].transformers_[1][1][\"onehot\"].get_feature_names_out(categorical_features))\n",
        "processed_df = pd.DataFrame(processed_data, columns=transformed_columns)\n",
        "\n",
        "print(\"\\nProcessed Data:\")\n",
        "print(processed_df)"
      ],
      "metadata": {
        "colab": {
          "base_uri": "https://localhost:8080/"
        },
        "id": "lDDXESyGbY1Z",
        "outputId": "0bb12bf3-542f-40d4-8f99-b5292d55cfc0"
      },
      "execution_count": 7,
      "outputs": [
        {
          "output_type": "stream",
          "name": "stdout",
          "text": [
            "\n",
            "Processed Data:\n",
            "   Age    Salary  City_Chicago  City_Los Angeles  City_New York  Gender_F  \\\n",
            "0 -1.5 -1.322876           0.0               0.0            1.0       1.0   \n",
            "1 -0.5  0.188982           0.0               1.0            0.0       0.0   \n",
            "2  0.0 -0.566947           0.0               0.0            1.0       0.0   \n",
            "3  0.5  0.000000           1.0               0.0            0.0       0.0   \n",
            "4  1.5  1.700840           0.0               1.0            0.0       1.0   \n",
            "\n",
            "   Gender_M  \n",
            "0       0.0  \n",
            "1       1.0  \n",
            "2       1.0  \n",
            "3       1.0  \n",
            "4       0.0  \n"
          ]
        }
      ]
    },
    {
      "cell_type": "code",
      "source": [
        "# Step 5: Save the processed data\n",
        "output_file = \"processed_data.csv\"\n",
        "processed_df.to_csv(output_file, index=False)\n",
        "print(f\"\\nProcessed data saved to {os.path.abspath(output_file)}\")"
      ],
      "metadata": {
        "colab": {
          "base_uri": "https://localhost:8080/"
        },
        "id": "9yICf7sabbJV",
        "outputId": "ced4ebdb-566a-47b0-e2a0-3a6794652701"
      },
      "execution_count": 8,
      "outputs": [
        {
          "output_type": "stream",
          "name": "stdout",
          "text": [
            "\n",
            "Processed data saved to /content/processed_data.csv\n"
          ]
        }
      ]
    },
    {
      "cell_type": "code",
      "source": [
        "from google.colab import files\n",
        "files.download('processed_data.csv')\n"
      ],
      "metadata": {
        "colab": {
          "base_uri": "https://localhost:8080/",
          "height": 17
        },
        "id": "taFfj3yEcKMt",
        "outputId": "80085e3e-ae05-4b85-948c-ebf8bde15d90"
      },
      "execution_count": 9,
      "outputs": [
        {
          "output_type": "display_data",
          "data": {
            "text/plain": [
              "<IPython.core.display.Javascript object>"
            ],
            "application/javascript": [
              "\n",
              "    async function download(id, filename, size) {\n",
              "      if (!google.colab.kernel.accessAllowed) {\n",
              "        return;\n",
              "      }\n",
              "      const div = document.createElement('div');\n",
              "      const label = document.createElement('label');\n",
              "      label.textContent = `Downloading \"${filename}\": `;\n",
              "      div.appendChild(label);\n",
              "      const progress = document.createElement('progress');\n",
              "      progress.max = size;\n",
              "      div.appendChild(progress);\n",
              "      document.body.appendChild(div);\n",
              "\n",
              "      const buffers = [];\n",
              "      let downloaded = 0;\n",
              "\n",
              "      const channel = await google.colab.kernel.comms.open(id);\n",
              "      // Send a message to notify the kernel that we're ready.\n",
              "      channel.send({})\n",
              "\n",
              "      for await (const message of channel.messages) {\n",
              "        // Send a message to notify the kernel that we're ready.\n",
              "        channel.send({})\n",
              "        if (message.buffers) {\n",
              "          for (const buffer of message.buffers) {\n",
              "            buffers.push(buffer);\n",
              "            downloaded += buffer.byteLength;\n",
              "            progress.value = downloaded;\n",
              "          }\n",
              "        }\n",
              "      }\n",
              "      const blob = new Blob(buffers, {type: 'application/binary'});\n",
              "      const a = document.createElement('a');\n",
              "      a.href = window.URL.createObjectURL(blob);\n",
              "      a.download = filename;\n",
              "      div.appendChild(a);\n",
              "      a.click();\n",
              "      div.remove();\n",
              "    }\n",
              "  "
            ]
          },
          "metadata": {}
        },
        {
          "output_type": "display_data",
          "data": {
            "text/plain": [
              "<IPython.core.display.Javascript object>"
            ],
            "application/javascript": [
              "download(\"download_44ff07a2-cfef-4d2e-a30b-2f156614aa9f\", \"processed_data.csv\", 278)"
            ]
          },
          "metadata": {}
        }
      ]
    }
  ]
}